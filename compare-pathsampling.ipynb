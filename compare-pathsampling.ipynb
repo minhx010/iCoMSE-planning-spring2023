{
 "cells": [
  {
   "cell_type": "code",
   "execution_count": null,
   "id": "8a3948a0",
   "metadata": {},
   "outputs": [],
   "source": [
    "# Written by: Porhouy (PH) Minh and Naomi Trampe\n",
    "# Last Updated Date: 03-18-2023 \n",
    "# SAMPEL Group"
   ]
  },
  {
   "attachments": {},
   "cell_type": "markdown",
   "id": "8fa00fca",
   "metadata": {},
   "source": [
    "## Comparison between path sampling methods\n"
   ]
  },
  {
   "attachments": {},
   "cell_type": "markdown",
   "id": "a7c30c6c",
   "metadata": {},
   "source": [
    "- This code will perform transition RETIS, FFS and cFFS on a simple potential energy surface (PES). \n",
    "\n",
    "- The code is constructed as follows: \n",
    "\n",
    "    - Performing RETIS, FFS, cFFS\n",
    "\n",
    "    - Plot the density of configurations sampled on the PES of each method for comparison purpose"
   ]
  },
  {
   "attachments": {},
   "cell_type": "markdown",
   "id": "a7132269",
   "metadata": {},
   "source": [
    "## Learning Objectives\n",
    "\n",
    "1. Understand power and limitations of each method used. \n",
    "\n",
    "    - To explore this you can see for a given pes_type, how does the sampling differ between these RETIS and FFS? Given that they used the same type of op. \n",
    "\n",
    "    - How does sampling differ between all the methods? \n"
   ]
  },
  {
   "attachments": {},
   "cell_type": "markdown",
   "id": "b2264da6",
   "metadata": {},
   "source": [
    "## Energy surface contours options"
   ]
  },
  {
   "attachments": {},
   "cell_type": "markdown",
   "id": "a591c992",
   "metadata": {},
   "source": [
    "PES-1: $$ V(x,y) = 0.02(x^4+y^4) - 4\\exp(-(x+2)^2 - (y+2)^2) - 4\\exp(-(x-2)^2 - (y-2)^2) + 0.3(x-y)^2 + 0.0026 $$\n",
    "\n",
    "<img src=\"https://raw.githubusercontent.com/minhx010/pathsampling-notebooks/main/PES-figures/pes-1.png\"> "
   ]
  },
  {
   "attachments": {},
   "cell_type": "markdown",
   "id": "b6ac51be",
   "metadata": {},
   "source": [
    "PES-2: $$ V(x,y) = 0.03(x^4+y^4) - 4\\exp(-(x+2)^2 - (y+2)^2) - 4\\exp(-(x-2)^2 - (y-2)^2) + 0.4(x-y)^2 + 4\\exp(-(x^2+y^2)) - 2.1245 $$\n",
    "\n",
    "<img src=\"https://raw.githubusercontent.com/minhx010/pathsampling-notebooks/main/PES-figures/pes-2.png\">"
   ]
  },
  {
   "attachments": {},
   "cell_type": "markdown",
   "id": "be5d4414",
   "metadata": {},
   "source": [
    "PES-3: $$ V(x,y) = 0.02(x^4+y^4) - 3.73\\exp(-\\frac{(x+2)^2}{8} - \\frac{(y+2)^2}{8}) - 3.73\\exp(-\\frac{(x-2)^2}{8} - \\frac{(y-2)^2}{8}) + 3\\exp(-\\frac{x^2}{2} - \\frac{y^2}{15}) + 2\\exp(-\\frac{x^2}{2} - \\frac{y^2}{2}) - 0.5085 $$\n",
    "\n",
    "<img src=\"https://raw.githubusercontent.com/minhx010/pathsampling-notebooks/main/PES-figures/pes-3.png\">"
   ]
  },
  {
   "attachments": {},
   "cell_type": "markdown",
   "id": "fee32de5",
   "metadata": {},
   "source": [
    "PES-4: Müller-Brown Potential \n",
    "$$ V_{MB}(x,y) = \\sum_{i=1}^{4}{A_{i}\\exp([ a_{i}(x-\\bar{x_{i}})^2 + b_{i}(x-\\bar{x_{i}})(y-\\bar{y_{i}}) + c_{i}(y-\\bar{y_{i}})^2 ])} $$ \n",
    "where:\n",
    "\n",
    "$$ A = [-8, -4, -6.8, 0.6] $$\n",
    "$$ a = [-0.111, -0.111, -0.722, 0.0778] $$\n",
    "$$ b = [0, 0, 1.22, 0.0667] $$\n",
    "$$ c = [-1.11, -1.11, -0.722, 0.0778] $$\n",
    "$$ \\bar{x} = [3, 0, -1.5, -3] $$\n",
    "$$ \\bar{y} = [-3, -1.5, 1.5, 0] $$\n",
    "\n",
    "<img src=\"https://raw.githubusercontent.com/minhx010/pathsampling-notebooks/main/PES-figures/pes-4.png\">"
   ]
  },
  {
   "attachments": {},
   "cell_type": "markdown",
   "id": "f1b18cd0",
   "metadata": {},
   "source": [
    "## Choose your PES"
   ]
  },
  {
   "cell_type": "code",
   "execution_count": null,
   "id": "b2be1aab",
   "metadata": {},
   "outputs": [],
   "source": [
    "import numpy as np\n",
    "import sys\n",
    "import math\n",
    "import copy\n",
    "from math import exp\n",
    "import langevin_dynamics as ld\n",
    "import random\n",
    "import matplotlib.pyplot as plt\n",
    "from matplotlib import colors, ticker, cm\n",
    "\n",
    "# Select your PES type: ***** EDIT HERE *****\n",
    "pes_type = 1\n",
    "\n",
    "# Plot potential energy surface contours\n",
    "N = 100\n",
    "x_vec = np.linspace(-3.5, 3.5, N)\n",
    "y_vec = np.linspace(-3.5, 3.5, N)\n",
    "X, Y = np.meshgrid(x_vec, y_vec)\n",
    "energy = np.zeros((N, N))\n",
    "\n",
    "# Plot contours\n",
    "for i in range(len(x_vec)):\n",
    "    for j in range(len(y_vec)):\n",
    "        energy[j][i] = ld.potential(x_vec[i],y_vec[j],pes_type)\n",
    "plt.contour(x_vec,y_vec,energy,np.linspace(-3,3,20), cmap = 'jet')\n",
    "cbar = plt.colorbar(cm.ScalarMappable(cmap='jet'))\n",
    "cbar.set_ticks([])\n",
    "cbar.set_label(label = 'Energy', size=12)\n",
    "plt.xlabel('x')\n",
    "plt.ylabel('y')\n",
    "plt.show"
   ]
  },
  {
   "attachments": {},
   "cell_type": "markdown",
   "id": "e1abed92",
   "metadata": {},
   "source": [
    "## Simulation Settings"
   ]
  },
  {
   "attachments": {},
   "cell_type": "markdown",
   "id": "2f278754",
   "metadata": {},
   "source": [
    "## 1) RETIS Settings"
   ]
  },
  {
   "cell_type": "code",
   "execution_count": null,
   "id": "94c49a0e",
   "metadata": {},
   "outputs": [],
   "source": [
    "# RETIS settings\n",
    "n_moves = 1000              # number of moves to perform for each path ensemble - path ensemble corresponding to each diff interface\n",
    "op_type = 1                 # order parameter;  1:x  2:y  3:x+y\n",
    "interfaces = [-1.3, -0.8, -0.5, 0.0, 0.5, 1.0, 2.0]\n",
    "basinA = -2.09              # boundary of basin A; must be less than the first interface\n",
    "basinB = interfaces[-1]     # basin B defined as last interface\n",
    "init_coords = [-1, -1]      # initial coordinates\n",
    "init_p = [0, 0]             # initial momenta\n",
    "basineqlen = 5000           # basin equilibration length (steps)\n",
    "basinlen = 50000            # basin simulation length\n",
    "sigma = 0.5                 # standard deviation of momenta perturbation\n",
    "\n",
    "#Langevin dynamics settings\n",
    "beta = 2.5                  # 1/kT\n",
    "beta_initpath = 1.5         # 1/kT\n",
    "gamma = 5.0                 # friction\n",
    "dt = 0.01                   # time step size\n",
    "\n",
    "# Plot PES contours with interfaces\n",
    "# Plot contours\n",
    "for i in range(len(x_vec)):\n",
    "    for j in range(len(y_vec)):\n",
    "        energy[j][i] = ld.potential(x_vec[i],y_vec[j],pes_type)\n",
    "\n",
    "plt.contour(x_vec,y_vec,energy,np.linspace(-3,3,20), cmap = 'jet')\n",
    "\n",
    "# Plot basin boundaries\n",
    "\n",
    "if op_type == 1:\n",
    "    plt.plot(np.linspace(basinA,basinA,10),np.linspace(min(y_vec),max(y_vec),10),color='r', label='Basin A')\n",
    "    plt.plot(np.linspace(basinB,basinB,10),np.linspace(min(y_vec),max(y_vec),10),color='b', label='Basin B')\n",
    "elif op_type == 2:\n",
    "    plt.plot(np.linspace(min(x_vec),max(x_vec),10),np.linspace(basinA,basinA,10),color='r', label='Basin A')\n",
    "    plt.plot(np.linspace(min(x_vec),max(x_vec),10),np.linspace(basinB,basinB,10),color='b', label='Basin B')\n",
    "else:\n",
    "    xplot = np.linspace(min(x_vec),max(x_vec),10)\n",
    "    yplmax = basinB - xplot\n",
    "    yplmin = basinA - xplot\n",
    "    plt.plot(xplot,yplmin,color='r', label='Basin A')\n",
    "    plt.plot(xplot,yplmax,color='b', label='Basin B')\n",
    "\n",
    "# Plot interfaces\n",
    "for i in range(len(interfaces)-1):\n",
    "    \n",
    "    if op_type == 1:\n",
    "        plt.plot(np.linspace(interfaces[i],interfaces[i],10),np.linspace(min(y_vec),max(y_vec),10), color='grey')\n",
    "    elif op_type == 2:\n",
    "        plt.plot(np.linspace(min(x_vec),max(x_vec),10),np.linspace(interfaces[i],interfaces[i],10), color='grey')\n",
    "    else:\n",
    "        xplot = np.linspace(min(x_vec),max(x_vec),10)\n",
    "        yplot = interfaces[i]-xplot\n",
    "        plt.plot(xplot,yplot, color='grey')    \n",
    "        \n",
    "cbar = plt.colorbar(cm.ScalarMappable(cmap='jet'))\n",
    "cbar.set_ticks([])\n",
    "cbar.set_label(label = 'Energy', size=12)\n",
    "plt.legend()\n",
    "plt.xlabel('x')\n",
    "plt.ylabel('y')\n",
    "plt.show"
   ]
  },
  {
   "attachments": {},
   "cell_type": "markdown",
   "id": "315ee16e",
   "metadata": {},
   "source": [
    "## Perform RETIS"
   ]
  },
  {
   "cell_type": "code",
   "execution_count": null,
   "id": "4227c5a1",
   "metadata": {},
   "outputs": [],
   "source": [
    "# Perform RETIS\n",
    "import RETIS as ret\n",
    "\n",
    "ret.performretis(pes_type,op_type,interfaces,n_moves,basinA,init_coords,basineqlen,basinlen,beta,beta_initpath)"
   ]
  },
  {
   "attachments": {},
   "cell_type": "markdown",
   "id": "ec54af72",
   "metadata": {},
   "source": [
    "## 2) FFS Settings"
   ]
  },
  {
   "cell_type": "code",
   "execution_count": null,
   "id": "ce53a5dc",
   "metadata": {},
   "outputs": [],
   "source": []
  },
  {
   "attachments": {},
   "cell_type": "markdown",
   "id": "3ca8c1b8",
   "metadata": {},
   "source": [
    "## Perform FFS"
   ]
  },
  {
   "cell_type": "code",
   "execution_count": null,
   "id": "17fdbec5",
   "metadata": {},
   "outputs": [],
   "source": []
  }
 ],
 "metadata": {
  "kernelspec": {
   "display_name": "Python 3.9.10 64-bit",
   "language": "python",
   "name": "python3"
  },
  "language_info": {
   "codemirror_mode": {
    "name": "ipython",
    "version": 3
   },
   "file_extension": ".py",
   "mimetype": "text/x-python",
   "name": "python",
   "nbconvert_exporter": "python",
   "pygments_lexer": "ipython3",
   "version": "3.9.13"
  },
  "vscode": {
   "interpreter": {
    "hash": "aee8b7b246df8f9039afb4144a1f6fd8d2ca17a180786b69acc140d282b71a49"
   }
  }
 },
 "nbformat": 4,
 "nbformat_minor": 5
}
